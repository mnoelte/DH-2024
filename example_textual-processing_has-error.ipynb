{
 "cells": [
  {
   "cell_type": "code",
   "execution_count": null,
   "id": "3eb8c0ff-1988-459d-8868-4b9007449c79",
   "metadata": {},
   "outputs": [],
   "source": [
    "!pip list"
   ]
  },
  {
   "cell_type": "code",
   "execution_count": null,
   "id": "c96f237d-e116-4149-9de4-c48a3ee523d6",
   "metadata": {},
   "outputs": [],
   "source": [
    "!pip install nltk"
   ]
  },
  {
   "cell_type": "code",
   "execution_count": null,
   "id": "909ba3a8-5be1-49b4-a209-a515e6c43186",
   "metadata": {},
   "outputs": [],
   "source": [
    "# import the library\n",
    "import nltk\n",
    "\n",
    "# you need this only once: it is to download the 'punkt' package, which includes a pre-trained tokenizer\n",
    "nltk.download('punkt') \n",
    "\n",
    "sentence = \"This is an example sentence. It shows how tokenization works.\"\n",
    "\n",
    "# Tokenizing the sentence\n",
    "tokens = nltk.word_tokenize(sentence)\n",
    "\n",
    "print(tokens)"
   ]
  },
  {
   "cell_type": "code",
   "execution_count": null,
   "id": "dbccef67-313d-4b23-a4b4-674301f46b16",
   "metadata": {},
   "outputs": [],
   "source": [
    "!pip install python-Levenshtein numpy matplotlib seaborn pandas"
   ]
  },
  {
   "cell_type": "code",
   "execution_count": null,
   "id": "b06f9d63-26c0-4bf6-878e-6a9e1ee387d2",
   "metadata": {},
   "outputs": [],
   "source": [
    "import numpy as np\n",
    "import matplotlib.pyplot as plt\n",
    "import seaborn as sns\n",
    "import pandas as pd\n",
    "from Levenshtein import distance as levenshtein_distance\n",
    "\n",
    "tokens = ['This', 'is', 'an', 'example', 'sentence', '.', 'It', 'shows', 'how', 'tokenization', 'works', '.']\n",
    "\n",
    "# calculate the distance matrix\n",
    "dist_matrix = np.zeros((len(tokens), len(tokens)))\n",
    "\n",
    "for i in range(len(tokens)):\n",
    "    for j in range(len(tokens)):\n",
    "        dist_matrix[i,j] = levenshtein_distance(tokens[i], tokens[j])\n",
    "\n",
    "# create a dataframe from the distance matrix\n",
    "df = pd.DataFrame(dist_matrix, index=tokens, columns=tokens)\n",
    "\n",
    "# plot the distance matrix\n",
    "plt.figure(figsize = (10,7))\n",
    "sns.heatmap(df, annot=True, cmap='viridis')\n",
    "plt.show()\n"
   ]
  },
  {
   "cell_type": "code",
   "execution_count": null,
   "id": "b12d7d65-3da2-42a1-a761-258336e408d0",
   "metadata": {},
   "outputs": [],
   "source": [
    "import numpy as np\n",
    "import matplotlib.pyplot as plt\n",
    "import seaborn as sns\n",
    "import pandas as pd\n",
    "from Levenshtein import distance as levenshtein_distance\n",
    "\n",
    "# misspelling test: \"'tokenIzation', 'exanple'\"\n",
    "tokens = ['This', 'is', 'an', 'example', 'sentence', '.', 'It', 'shows', 'how', 'tokenization', 'works', '.', 'tokenIzation', 'exanple']\n",
    "\n",
    "# calculate the distance matrix\n",
    "dist_matrix = np.zeros((len(tokens), len(tokens)))\n",
    "\n",
    "for i in range(len(tokens)):\n",
    "    for j in range(len(tokens)):\n",
    "        # \"/ max(len(tokens[i]), len(tokens[j]))\" normalises by the length of the longest token\n",
    "        dist_matrix[i,j] = levenshtein_distance(tokens[i], tokens[j]) / max(len(tokens[i]), len(tokens[j]))\n",
    "\n",
    "# create a dataframe from the distance matrix\n",
    "df = pd.DataFrame(dist_matrix, index=tokens, columns=tokens)\n",
    "\n",
    "# plot the distance matrix\n",
    "plt.figure(figsize = (10,7))\n",
    "sns.heatmap(df, annot=True, cmap='viridis')\n",
    "plt.show()\n"
   ]
  }
 ],
 "metadata": {
  "kernelspec": {
   "display_name": "Python 3 (ipykernel)",
   "language": "python",
   "name": "python3"
  },
  "language_info": {
   "codemirror_mode": {
    "name": "ipython",
    "version": 3
   },
   "file_extension": ".py",
   "mimetype": "text/x-python",
   "name": "python",
   "nbconvert_exporter": "python",
   "pygments_lexer": "ipython3",
   "version": "3.12.2"
  }
 },
 "nbformat": 4,
 "nbformat_minor": 5
}
