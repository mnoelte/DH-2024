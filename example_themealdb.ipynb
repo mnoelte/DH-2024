{
 "cells": [
  {
   "cell_type": "markdown",
   "id": "adc5b66a-20c5-40c2-8e71-b6b60f36f474",
   "metadata": {},
   "source": [
    "# prepare script; read web page"
   ]
  },
  {
   "cell_type": "code",
   "execution_count": 3,
   "id": "38db7b01-2a0d-4790-85e0-3ba55ab79e65",
   "metadata": {},
   "outputs": [
    {
     "name": "stdout",
     "output_type": "stream",
     "text": [
      "Requirement already satisfied: beautifulsoup4 in /opt/conda/lib/python3.11/site-packages (4.12.3)\n",
      "Requirement already satisfied: soupsieve>1.2 in /opt/conda/lib/python3.11/site-packages (from beautifulsoup4) (2.5)\n",
      "Note: you may need to restart the kernel to use updated packages.\n"
     ]
    }
   ],
   "source": [
    "pip install beautifulsoup4"
   ]
  },
  {
   "cell_type": "code",
   "execution_count": 1,
   "id": "72f20928-add1-45de-9f96-37be430b9413",
   "metadata": {},
   "outputs": [],
   "source": [
    "from bs4 import BeautifulSoup\n",
    "from urllib.request import urlopen\n",
    "\n",
    "url = \"https://www.themealdb.com/meal/53082-Strawberries-Romanoff-Recipe\"\n",
    "page = urlopen(url)\n",
    "html = page.read().decode(\"utf-8\")\n",
    "soup = BeautifulSoup(html, \"html.parser\") \n",
    "#the string \"html.parser\", tells the object which parser to use behind the scenes. \"html.parser\" represents Python’s built-in HTML parser"
   ]
  },
  {
   "cell_type": "markdown",
   "id": "3aea9d5a-ec04-438b-9e3b-d89e84702346",
   "metadata": {},
   "source": [
    "## Scrape figcaption tags from the page"
   ]
  },
  {
   "cell_type": "code",
   "execution_count": 2,
   "id": "c5b716f8-0312-4281-91fd-7c6140a3eebc",
   "metadata": {},
   "outputs": [
    {
     "name": "stdout",
     "output_type": "stream",
     "text": [
      "2 pint  Strawberries\n",
      "4 tbs Sugar\n",
      "4 tbs Grand Marnier\n",
      "1 cup  Cream\n",
      "1/4 cup Sour Cream\n"
     ]
    }
   ],
   "source": [
    "# Define the CSS path\n",
    "# css_path = \"html.csstransforms.csstransforms3d.csstransitions body.homepage section#feature div.container div.center table tbody tr td table tbody tr td a figure figcaption\"\n",
    "css_path = \"figure figcaption\"\n",
    "\n",
    "\n",
    "data = []\n",
    "elements = soup.select(css_path)\n",
    "for element in elements:\n",
    "    data.append(element.get_text(strip=True))\n",
    "\n",
    "# Print the scraped data\n",
    "for item in data:\n",
    "    print(item)"
   ]
  },
  {
   "cell_type": "markdown",
   "id": "f4fdc699-b52e-4c9e-9452-4a68e5cc0153",
   "metadata": {},
   "source": [
    "## The next cell doesn't work\n",
    "css_path is too specific."
   ]
  },
  {
   "cell_type": "code",
   "execution_count": null,
   "id": "8a94f5f7-a243-47db-8cf8-a00b8de0f3f1",
   "metadata": {},
   "outputs": [],
   "source": [
    "# Define the CSS path\n",
    "# css_path = \"html.csstransforms.csstransforms3d.csstransitions body.homepage section#feature div.container div.center table tbody tr td table tbody tr td a figure figcaption\"\n",
    "# css_path = 'a[href=\"/ingredient/304-Strawberries\"] figure figcaption'\n",
    "css_path = 'a[href] figure figcaption'  # https://developer.mozilla.org/en-US/docs/Web/CSS/Attribute_selectors\n",
    "\n",
    "\n",
    "data = []\n",
    "elements = soup.select(css_path)\n",
    "for element in elements:\n",
    "    data.append(element.get_text(strip=True))\n",
    "\n",
    "# Print the scraped data\n",
    "for item in data:\n",
    "    print(item)"
   ]
  },
  {
   "attachments": {
    "9a16fd1d-2008-4bd0-b195-43cb7aa6526f.png": {
     "image/png": "[encoded data removed]"
    }
   },
   "cell_type": "markdown",
   "id": "9f88a8bf-5ac8-40e2-9c69-979774961bed",
   "metadata": {
    "jupyter": {
     "source_hidden": true
    }
   },
   "source": [
    "## Some information\n",
    "\n",
    "![image.png](attachment:9a16fd1d-2008-4bd0-b195-43cb7aa6526f.png)\n",
    "\n",
    "\n",
    "### css selector\n",
    "\n",
    "div.center:nth-child(1) > table:nth-child(1) > tbody:nth-child(1) > tr:nth-child(2) > td:nth-child(2) > table:nth-child(1) > tbody:nth-child(1) > tr:nth-child(1) > td:nth-child(1) > a:nth-child(1) > figure:nth-child(1) > figcaption:nth-child(2)\n",
    "\n",
    "### xpath\n",
    "\n",
    "/html/body/section/div/div/table/tbody/tr[2]/td[2]/table/tbody/tr[1]/td[1]/a/figure/figcaption\n",
    "\n",
    "### css path\n",
    "\n",
    "html.csstransforms.csstransforms3d.csstransitions body.homepage section#feature div.container div.center table tbody tr td table tbody tr td a figure figcaption"
   ]
  },
  {
   "cell_type": "markdown",
   "id": "061623c3-948c-42ec-8257-e7d0b6639c75",
   "metadata": {},
   "source": [
    "## Scraping all URL from a given file"
   ]
  },
  {
   "cell_type": "code",
   "execution_count": null,
   "id": "9df047f8-64d3-4922-8976-a26e1ab7bf66",
   "metadata": {},
   "outputs": [],
   "source": [
    "from bs4 import BeautifulSoup\n",
    "from urllib.request import urlopen\n",
    "\n",
    "filename_urls = \"themealdb-urls.txt\"\n",
    "css_path = \"figure figcaption\"  # CSS path for elements to be scraped\n",
    "\n",
    "# Read URLs from a file\n",
    "with open(filename_urls, \"r\") as file:\n",
    "    urls = [line.strip() for line in file if line.strip()]\n",
    "\n",
    "for url in urls:\n",
    "    print(f\"Scraping URL: {url}\")\n",
    "    try:\n",
    "        page = urlopen(url)\n",
    "        html = page.read().decode(\"utf-8\")\n",
    "        soup = BeautifulSoup(html, \"html.parser\")\n",
    "        \n",
    "        data = []\n",
    "        elements = soup.select(css_path)\n",
    "        for element in elements:\n",
    "            data.append(element.get_text(strip=True))\n",
    "\n",
    "        # Print the scraped data\n",
    "        if data:\n",
    "            for item in data:\n",
    "                print(item)\n",
    "        else:\n",
    "            print(\"No data found for the given CSS path.\")\n",
    "    \n",
    "    except Exception as e:\n",
    "        print(f\"Error scraping {url}: {e}\")\n"
   ]
  },
  {
   "cell_type": "markdown",
   "id": "ea9f60b0-c02f-41a1-81a8-387b2226ed3e",
   "metadata": {},
   "source": [
    "### Additional exercise\n",
    "* Create another urls-file\n",
    "* Chose an appropriate meaningfull tag (css_path)\n",
    "* Try to get it running"
   ]
  }
 ],
 "metadata": {
  "kernelspec": {
   "display_name": "Python 3 (ipykernel)",
   "language": "python",
   "name": "python3"
  },
  "language_info": {
   "codemirror_mode": {
    "name": "ipython",
    "version": 3
   },
   "file_extension": ".py",
   "mimetype": "text/x-python",
   "name": "python",
   "nbconvert_exporter": "python",
   "pygments_lexer": "ipython3",
   "version": "3.11.10"
  }
 },
 "nbformat": 4,
 "nbformat_minor": 5
}
