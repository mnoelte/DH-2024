{
 "cells": [
  {
   "cell_type": "markdown",
   "id": "ed5c45e3-7eda-4072-8593-0976311ef56a",
   "metadata": {},
   "source": [
    "URL: https://chat-ai.academiccloud.de/chat  ; model: GPT-4\n",
    "\n",
    "Prompt: \"Please show a little textual processing example, that I can try in my jupyter notebook.\""
   ]
  },
  {
   "cell_type": "code",
   "execution_count": null,
   "id": "92c1d056-f6cc-4967-997e-472f0ed1390f",
   "metadata": {},
   "outputs": [],
   "source": [
    "!pip install nltk"
   ]
  },
  {
   "cell_type": "code",
   "execution_count": null,
   "id": "f09133c5-5a9c-4fda-918a-9d837690a6f0",
   "metadata": {},
   "outputs": [],
   "source": [
    "import nltk\n",
    "from nltk.corpus import stopwords\n",
    "from nltk.tokenize import word_tokenize\n",
    "from nltk.stem import PorterStemmer\n",
    "\n",
    "# download the stopwords and punkt packages from NLTK if you haven't already\n",
    "nltk.download('punkt')\n",
    "nltk.download('stopwords')"
   ]
  },
  {
   "cell_type": "code",
   "execution_count": null,
   "id": "59691910-3b7a-4d16-a7b4-46b78ad96f1b",
   "metadata": {},
   "outputs": [],
   "source": [
    "text = \"Here is an example sentence. We're going to tokenize it, remove the stop words, and then perform stemming.\"\n",
    "\n",
    "# word tokenization\n",
    "tokens = word_tokenize(text)\n",
    "print(tokens)\n",
    "print('remove stopwords')\n",
    "tokens = [word for word in tokens if not word in stopwords.words()]\n",
    "print(tokens)\n",
    "print('stemming')\n",
    "stemmer = PorterStemmer()\n",
    "tokens = [stemmer.stem(word) for word in tokens]\n",
    "\n",
    "print(tokens)"
   ]
  }
 ],
 "metadata": {
  "kernelspec": {
   "display_name": "Python 3 (ipykernel)",
   "language": "python",
   "name": "python3"
  },
  "language_info": {
   "codemirror_mode": {
    "name": "ipython",
    "version": 3
   },
   "file_extension": ".py",
   "mimetype": "text/x-python",
   "name": "python",
   "nbconvert_exporter": "python",
   "pygments_lexer": "ipython3",
   "version": "3.12.2"
  }
 },
 "nbformat": 4,
 "nbformat_minor": 5
}
